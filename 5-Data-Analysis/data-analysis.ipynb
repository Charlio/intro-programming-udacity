{
 "cells": [
  {
   "cell_type": "markdown",
   "metadata": {},
   "source": [
    "# Analysis of the tmdb movie dataset"
   ]
  },
  {
   "cell_type": "markdown",
   "metadata": {},
   "source": [
    "### Introduction\n",
    "This data set contains information about 10,000 movies collected from The Movie Database (TMDb), including user ratings and revenue.\n",
    "- Certain columns, like ‘cast’ and ‘genres’, contain multiple values separated by pipe (|) characters.\n",
    "- There are some odd characters in the ‘cast’ column. Don’t worry about cleaning them. You can leave them as is.\n",
    "- The final two columns ending with “_adj” show the budget and revenue of the associated movie in terms of 2010 dollars, accounting for inflation over time.\n",
    "\n",
    "### The following questions will be answered\n",
    "- Which directors have the highest number of movies?\n",
    "- What is the distribution of runtime?\n",
    "- Which year has the highest number of movies?\n",
    "- How many movies have a higher revenue_adj than budget_adj?\n",
    "- Which genres are the most popular?"
   ]
  },
  {
   "cell_type": "code",
   "execution_count": 1,
   "metadata": {
    "collapsed": true
   },
   "outputs": [],
   "source": [
    "# import necessary libraries\n",
    "import pandas as pd\n",
    "from matplotlib import pyplot as plt\n",
    "\n",
    "# plot graphies inside the notebook\n",
    "%matplotlib inline"
   ]
  },
  {
   "cell_type": "code",
   "execution_count": 2,
   "metadata": {},
   "outputs": [
    {
     "name": "stdout",
     "output_type": "stream",
     "text": [
      "length of dataset:  10866\n"
     ]
    }
   ],
   "source": [
    "# read in the data file\n",
    "data = pd.read_csv(\"tmdb-movies.csv\")\n",
    "print(\"length of dataset: \", len(data))"
   ]
  },
  {
   "cell_type": "markdown",
   "metadata": {},
   "source": [
    "Notice that the dataset has 10866 rows which is larger than 10000. This means the dataset contains duplicates which we'll need to remove."
   ]
  },
  {
   "cell_type": "code",
   "execution_count": 3,
   "metadata": {},
   "outputs": [
    {
     "data": {
      "text/plain": [
       "Index(['id', 'imdb_id', 'popularity', 'budget', 'revenue', 'original_title',\n",
       "       'cast', 'homepage', 'director', 'tagline', 'keywords', 'overview',\n",
       "       'runtime', 'genres', 'production_companies', 'release_date',\n",
       "       'vote_count', 'vote_average', 'release_year', 'budget_adj',\n",
       "       'revenue_adj'],\n",
       "      dtype='object')"
      ]
     },
     "execution_count": 3,
     "metadata": {},
     "output_type": "execute_result"
    }
   ],
   "source": [
    "# explore the columns\n",
    "data.columns"
   ]
  },
  {
   "cell_type": "code",
   "execution_count": 4,
   "metadata": {},
   "outputs": [
    {
     "name": "stdout",
     "output_type": "stream",
     "text": [
      "length of datset after removing duplicates:  10562\n"
     ]
    }
   ],
   "source": [
    "# remove dupplicates based on 'id', 'imdb_id' and 'original_title'\n",
    "data.drop_duplicates(subset=['id'], keep=\"first\", inplace=True)\n",
    "data.drop_duplicates(subset=['imdb_id'], keep=\"first\", inplace=True)\n",
    "data.drop_duplicates(subset=['original_title'], keep=\"first\", inplace=True)\n",
    "print(\"length of datset after removing duplicates: \", len(data))"
   ]
  },
  {
   "cell_type": "code",
   "execution_count": 5,
   "metadata": {
    "collapsed": true
   },
   "outputs": [],
   "source": [
    "# only the following columns will be considered in this analysis\n",
    "\n",
    "reduced_columns = [\n",
    "    u'popularity', \n",
    "    u'original_title', \n",
    "    u'director',\n",
    "    u'runtime', \n",
    "    u'genres',\n",
    "    u'release_date', \n",
    "    u'vote_count',\n",
    "    u'vote_average', \n",
    "    u'release_year', \n",
    "    u'budget_adj', \n",
    "    u'revenue_adj',\n",
    "]\n",
    "\n",
    "# modify data by picking only the chosen clumns\n",
    "data = data[reduced_columns]"
   ]
  },
  {
   "cell_type": "code",
   "execution_count": 6,
   "metadata": {},
   "outputs": [
    {
     "data": {
      "text/html": [
       "<div>\n",
       "<style>\n",
       "    .dataframe thead tr:only-child th {\n",
       "        text-align: right;\n",
       "    }\n",
       "\n",
       "    .dataframe thead th {\n",
       "        text-align: left;\n",
       "    }\n",
       "\n",
       "    .dataframe tbody tr th {\n",
       "        vertical-align: top;\n",
       "    }\n",
       "</style>\n",
       "<table border=\"1\" class=\"dataframe\">\n",
       "  <thead>\n",
       "    <tr style=\"text-align: right;\">\n",
       "      <th></th>\n",
       "      <th>popularity</th>\n",
       "      <th>original_title</th>\n",
       "      <th>director</th>\n",
       "      <th>runtime</th>\n",
       "      <th>genres</th>\n",
       "      <th>release_date</th>\n",
       "      <th>vote_count</th>\n",
       "      <th>vote_average</th>\n",
       "      <th>release_year</th>\n",
       "      <th>budget_adj</th>\n",
       "      <th>revenue_adj</th>\n",
       "    </tr>\n",
       "  </thead>\n",
       "  <tbody>\n",
       "    <tr>\n",
       "      <th>0</th>\n",
       "      <td>32.985763</td>\n",
       "      <td>Jurassic World</td>\n",
       "      <td>Colin Trevorrow</td>\n",
       "      <td>124</td>\n",
       "      <td>Action|Adventure|Science Fiction|Thriller</td>\n",
       "      <td>6/9/15</td>\n",
       "      <td>5562</td>\n",
       "      <td>6.5</td>\n",
       "      <td>2015</td>\n",
       "      <td>1.379999e+08</td>\n",
       "      <td>1.392446e+09</td>\n",
       "    </tr>\n",
       "    <tr>\n",
       "      <th>1</th>\n",
       "      <td>28.419936</td>\n",
       "      <td>Mad Max: Fury Road</td>\n",
       "      <td>George Miller</td>\n",
       "      <td>120</td>\n",
       "      <td>Action|Adventure|Science Fiction|Thriller</td>\n",
       "      <td>5/13/15</td>\n",
       "      <td>6185</td>\n",
       "      <td>7.1</td>\n",
       "      <td>2015</td>\n",
       "      <td>1.379999e+08</td>\n",
       "      <td>3.481613e+08</td>\n",
       "    </tr>\n",
       "    <tr>\n",
       "      <th>2</th>\n",
       "      <td>13.112507</td>\n",
       "      <td>Insurgent</td>\n",
       "      <td>Robert Schwentke</td>\n",
       "      <td>119</td>\n",
       "      <td>Adventure|Science Fiction|Thriller</td>\n",
       "      <td>3/18/15</td>\n",
       "      <td>2480</td>\n",
       "      <td>6.3</td>\n",
       "      <td>2015</td>\n",
       "      <td>1.012000e+08</td>\n",
       "      <td>2.716190e+08</td>\n",
       "    </tr>\n",
       "    <tr>\n",
       "      <th>3</th>\n",
       "      <td>11.173104</td>\n",
       "      <td>Star Wars: The Force Awakens</td>\n",
       "      <td>J.J. Abrams</td>\n",
       "      <td>136</td>\n",
       "      <td>Action|Adventure|Science Fiction|Fantasy</td>\n",
       "      <td>12/15/15</td>\n",
       "      <td>5292</td>\n",
       "      <td>7.5</td>\n",
       "      <td>2015</td>\n",
       "      <td>1.839999e+08</td>\n",
       "      <td>1.902723e+09</td>\n",
       "    </tr>\n",
       "    <tr>\n",
       "      <th>4</th>\n",
       "      <td>9.335014</td>\n",
       "      <td>Furious 7</td>\n",
       "      <td>James Wan</td>\n",
       "      <td>137</td>\n",
       "      <td>Action|Crime|Thriller</td>\n",
       "      <td>4/1/15</td>\n",
       "      <td>2947</td>\n",
       "      <td>7.3</td>\n",
       "      <td>2015</td>\n",
       "      <td>1.747999e+08</td>\n",
       "      <td>1.385749e+09</td>\n",
       "    </tr>\n",
       "  </tbody>\n",
       "</table>\n",
       "</div>"
      ],
      "text/plain": [
       "   popularity                original_title          director  runtime  \\\n",
       "0   32.985763                Jurassic World   Colin Trevorrow      124   \n",
       "1   28.419936            Mad Max: Fury Road     George Miller      120   \n",
       "2   13.112507                     Insurgent  Robert Schwentke      119   \n",
       "3   11.173104  Star Wars: The Force Awakens       J.J. Abrams      136   \n",
       "4    9.335014                     Furious 7         James Wan      137   \n",
       "\n",
       "                                      genres release_date  vote_count  \\\n",
       "0  Action|Adventure|Science Fiction|Thriller       6/9/15        5562   \n",
       "1  Action|Adventure|Science Fiction|Thriller      5/13/15        6185   \n",
       "2         Adventure|Science Fiction|Thriller      3/18/15        2480   \n",
       "3   Action|Adventure|Science Fiction|Fantasy     12/15/15        5292   \n",
       "4                      Action|Crime|Thriller       4/1/15        2947   \n",
       "\n",
       "   vote_average  release_year    budget_adj   revenue_adj  \n",
       "0           6.5          2015  1.379999e+08  1.392446e+09  \n",
       "1           7.1          2015  1.379999e+08  3.481613e+08  \n",
       "2           6.3          2015  1.012000e+08  2.716190e+08  \n",
       "3           7.5          2015  1.839999e+08  1.902723e+09  \n",
       "4           7.3          2015  1.747999e+08  1.385749e+09  "
      ]
     },
     "execution_count": 6,
     "metadata": {},
     "output_type": "execute_result"
    }
   ],
   "source": [
    "# look at the first data points\n",
    "data.head()"
   ]
  },
  {
   "cell_type": "code",
   "execution_count": 7,
   "metadata": {},
   "outputs": [
    {
     "name": "stdout",
     "output_type": "stream",
     "text": [
      "length of dataset after dropping na:  10502\n"
     ]
    }
   ],
   "source": [
    "# drop nulls\n",
    "data.dropna(axis=0, how='any', inplace=True)\n",
    "print(\"length of dataset after dropping na: \", len(data))"
   ]
  },
  {
   "cell_type": "code",
   "execution_count": 8,
   "metadata": {},
   "outputs": [
    {
     "data": {
      "text/html": [
       "<div>\n",
       "<style>\n",
       "    .dataframe thead tr:only-child th {\n",
       "        text-align: right;\n",
       "    }\n",
       "\n",
       "    .dataframe thead th {\n",
       "        text-align: left;\n",
       "    }\n",
       "\n",
       "    .dataframe tbody tr th {\n",
       "        vertical-align: top;\n",
       "    }\n",
       "</style>\n",
       "<table border=\"1\" class=\"dataframe\">\n",
       "  <thead>\n",
       "    <tr style=\"text-align: right;\">\n",
       "      <th></th>\n",
       "      <th>popularity</th>\n",
       "      <th>runtime</th>\n",
       "      <th>vote_count</th>\n",
       "      <th>vote_average</th>\n",
       "      <th>release_year</th>\n",
       "      <th>budget_adj</th>\n",
       "      <th>revenue_adj</th>\n",
       "    </tr>\n",
       "  </thead>\n",
       "  <tbody>\n",
       "    <tr>\n",
       "      <th>count</th>\n",
       "      <td>10502.000000</td>\n",
       "      <td>10502.000000</td>\n",
       "      <td>10502.000000</td>\n",
       "      <td>10502.000000</td>\n",
       "      <td>10502.000000</td>\n",
       "      <td>1.050200e+04</td>\n",
       "      <td>1.050200e+04</td>\n",
       "    </tr>\n",
       "    <tr>\n",
       "      <th>mean</th>\n",
       "      <td>0.651189</td>\n",
       "      <td>101.970482</td>\n",
       "      <td>220.201200</td>\n",
       "      <td>5.964226</td>\n",
       "      <td>2001.605504</td>\n",
       "      <td>1.773266e+07</td>\n",
       "      <td>5.150676e+07</td>\n",
       "    </tr>\n",
       "    <tr>\n",
       "      <th>std</th>\n",
       "      <td>1.010033</td>\n",
       "      <td>29.686950</td>\n",
       "      <td>581.479195</td>\n",
       "      <td>0.935961</td>\n",
       "      <td>12.602750</td>\n",
       "      <td>3.453962e+07</td>\n",
       "      <td>1.448978e+08</td>\n",
       "    </tr>\n",
       "    <tr>\n",
       "      <th>min</th>\n",
       "      <td>0.000188</td>\n",
       "      <td>0.000000</td>\n",
       "      <td>10.000000</td>\n",
       "      <td>1.500000</td>\n",
       "      <td>1960.000000</td>\n",
       "      <td>0.000000e+00</td>\n",
       "      <td>0.000000e+00</td>\n",
       "    </tr>\n",
       "    <tr>\n",
       "      <th>25%</th>\n",
       "      <td>0.208645</td>\n",
       "      <td>90.000000</td>\n",
       "      <td>17.000000</td>\n",
       "      <td>5.400000</td>\n",
       "      <td>1995.000000</td>\n",
       "      <td>0.000000e+00</td>\n",
       "      <td>0.000000e+00</td>\n",
       "    </tr>\n",
       "    <tr>\n",
       "      <th>50%</th>\n",
       "      <td>0.385824</td>\n",
       "      <td>99.000000</td>\n",
       "      <td>39.000000</td>\n",
       "      <td>6.000000</td>\n",
       "      <td>2006.000000</td>\n",
       "      <td>0.000000e+00</td>\n",
       "      <td>0.000000e+00</td>\n",
       "    </tr>\n",
       "    <tr>\n",
       "      <th>75%</th>\n",
       "      <td>0.718802</td>\n",
       "      <td>111.000000</td>\n",
       "      <td>149.000000</td>\n",
       "      <td>6.600000</td>\n",
       "      <td>2011.000000</td>\n",
       "      <td>2.103337e+07</td>\n",
       "      <td>3.401582e+07</td>\n",
       "    </tr>\n",
       "    <tr>\n",
       "      <th>max</th>\n",
       "      <td>32.985763</td>\n",
       "      <td>900.000000</td>\n",
       "      <td>9767.000000</td>\n",
       "      <td>9.200000</td>\n",
       "      <td>2015.000000</td>\n",
       "      <td>4.250000e+08</td>\n",
       "      <td>2.827124e+09</td>\n",
       "    </tr>\n",
       "  </tbody>\n",
       "</table>\n",
       "</div>"
      ],
      "text/plain": [
       "         popularity       runtime    vote_count  vote_average  release_year  \\\n",
       "count  10502.000000  10502.000000  10502.000000  10502.000000  10502.000000   \n",
       "mean       0.651189    101.970482    220.201200      5.964226   2001.605504   \n",
       "std        1.010033     29.686950    581.479195      0.935961     12.602750   \n",
       "min        0.000188      0.000000     10.000000      1.500000   1960.000000   \n",
       "25%        0.208645     90.000000     17.000000      5.400000   1995.000000   \n",
       "50%        0.385824     99.000000     39.000000      6.000000   2006.000000   \n",
       "75%        0.718802    111.000000    149.000000      6.600000   2011.000000   \n",
       "max       32.985763    900.000000   9767.000000      9.200000   2015.000000   \n",
       "\n",
       "         budget_adj   revenue_adj  \n",
       "count  1.050200e+04  1.050200e+04  \n",
       "mean   1.773266e+07  5.150676e+07  \n",
       "std    3.453962e+07  1.448978e+08  \n",
       "min    0.000000e+00  0.000000e+00  \n",
       "25%    0.000000e+00  0.000000e+00  \n",
       "50%    0.000000e+00  0.000000e+00  \n",
       "75%    2.103337e+07  3.401582e+07  \n",
       "max    4.250000e+08  2.827124e+09  "
      ]
     },
     "execution_count": 8,
     "metadata": {},
     "output_type": "execute_result"
    }
   ],
   "source": [
    "# statistical summary of all numerical features\n",
    "data.describe()"
   ]
  },
  {
   "cell_type": "markdown",
   "metadata": {},
   "source": [
    "### Which directors have the highest number of movies?"
   ]
  },
  {
   "cell_type": "code",
   "execution_count": 9,
   "metadata": {},
   "outputs": [
    {
     "data": {
      "image/png": "[encoded data removed]",
      "text/plain": [
       "<matplotlib.figure.Figure at 0x2db9e43b400>"
      ]
     },
     "metadata": {},
     "output_type": "display_data"
    }
   ],
   "source": [
    "# group data by \"director\" and count points in each group\n",
    "count_by_directors = data.groupby([\"director\"]).size()\n",
    "# draw the histogram of number of movies by each director\n",
    "count_by_directors.hist(bins=50);\n",
    "plt.xlabel(\"number of movies by a single director\");\n",
    "plt.ylabel(\"number of directors\");\n",
    "plt.title(\"histogram of number of movies by directors\");"
   ]
  },
  {
   "cell_type": "markdown",
   "metadata": {},
   "source": [
    "From the above graph, we can see most directors have less than 10 movies, only very few directed more than 10 movies."
   ]
  },
  {
   "cell_type": "code",
   "execution_count": 10,
   "metadata": {},
   "outputs": [
    {
     "data": {
      "text/plain": [
       "director\n",
       "Woody Allen          44\n",
       "Clint Eastwood       33\n",
       "Steven Spielberg     29\n",
       "Martin Scorsese      29\n",
       "Steven Soderbergh    22\n",
       "Ron Howard           22\n",
       "Ridley Scott         21\n",
       "Joel Schumacher      21\n",
       "Barry Levinson       19\n",
       "Brian De Palma       18\n",
       "dtype: int64"
      ]
     },
     "execution_count": 10,
     "metadata": {},
     "output_type": "execute_result"
    }
   ],
   "source": [
    "# show the first 10 directors with most number of movies made\n",
    "count_by_directors.sort_values(ascending=False)[:10]"
   ]
  },
  {
   "cell_type": "markdown",
   "metadata": {},
   "source": [
    "The above directors are the most productive ones who directed a number of movies ranging from about 20 to 44."
   ]
  },
  {
   "cell_type": "markdown",
   "metadata": {},
   "source": [
    "### What is the distribution of runtime?"
   ]
  },
  {
   "cell_type": "code",
   "execution_count": 11,
   "metadata": {},
   "outputs": [
    {
     "data": {
      "text/plain": [
       "count    10502.000000\n",
       "mean       101.970482\n",
       "std         29.686950\n",
       "min          0.000000\n",
       "25%         90.000000\n",
       "50%         99.000000\n",
       "75%        111.000000\n",
       "max        900.000000\n",
       "Name: runtime, dtype: float64"
      ]
     },
     "execution_count": 11,
     "metadata": {},
     "output_type": "execute_result"
    },
    {
     "data": {
      "image/png": "[encoded data removed]",
      "text/plain": [
       "<matplotlib.figure.Figure at 0x2db9dfe6ac8>"
      ]
     },
     "metadata": {},
     "output_type": "display_data"
    }
   ],
   "source": [
    "# display the distribution of runtime in a graph and with a stat summary\n",
    "data['runtime'].hist(bins=100);\n",
    "plt.xlabel(\"movie runtime\");\n",
    "plt.ylabel(\"count of movies\");\n",
    "plt.title(\"histogram of number of movies by runtime\");\n",
    "data['runtime'].describe()"
   ]
  },
  {
   "cell_type": "markdown",
   "metadata": {},
   "source": [
    "From the above graph, we can see the runtime of movies has a very centered distribution around 102 minutes, which is very reasonable. However, we are also very interested in the rightmost outliers. So let's take the longest one to analyze. The longest movie is a documentary:"
   ]
  },
  {
   "cell_type": "code",
   "execution_count": 12,
   "metadata": {},
   "outputs": [
    {
     "data": {
      "text/html": [
       "<div>\n",
       "<style>\n",
       "    .dataframe thead tr:only-child th {\n",
       "        text-align: right;\n",
       "    }\n",
       "\n",
       "    .dataframe thead th {\n",
       "        text-align: left;\n",
       "    }\n",
       "\n",
       "    .dataframe tbody tr th {\n",
       "        vertical-align: top;\n",
       "    }\n",
       "</style>\n",
       "<table border=\"1\" class=\"dataframe\">\n",
       "  <thead>\n",
       "    <tr style=\"text-align: right;\">\n",
       "      <th></th>\n",
       "      <th>popularity</th>\n",
       "      <th>original_title</th>\n",
       "      <th>director</th>\n",
       "      <th>runtime</th>\n",
       "      <th>genres</th>\n",
       "      <th>release_date</th>\n",
       "      <th>vote_count</th>\n",
       "      <th>vote_average</th>\n",
       "      <th>release_year</th>\n",
       "      <th>budget_adj</th>\n",
       "      <th>revenue_adj</th>\n",
       "    </tr>\n",
       "  </thead>\n",
       "  <tbody>\n",
       "    <tr>\n",
       "      <th>3894</th>\n",
       "      <td>0.006925</td>\n",
       "      <td>The Story of Film: An Odyssey</td>\n",
       "      <td>Mark Cousins</td>\n",
       "      <td>900</td>\n",
       "      <td>Documentary</td>\n",
       "      <td>9/3/11</td>\n",
       "      <td>14</td>\n",
       "      <td>9.2</td>\n",
       "      <td>2011</td>\n",
       "      <td>0.0</td>\n",
       "      <td>0.0</td>\n",
       "    </tr>\n",
       "  </tbody>\n",
       "</table>\n",
       "</div>"
      ],
      "text/plain": [
       "      popularity                 original_title      director  runtime  \\\n",
       "3894    0.006925  The Story of Film: An Odyssey  Mark Cousins      900   \n",
       "\n",
       "           genres release_date  vote_count  vote_average  release_year  \\\n",
       "3894  Documentary       9/3/11          14           9.2          2011   \n",
       "\n",
       "      budget_adj  revenue_adj  \n",
       "3894         0.0          0.0  "
      ]
     },
     "execution_count": 12,
     "metadata": {},
     "output_type": "execute_result"
    }
   ],
   "source": [
    "# detail about the longest movie\n",
    "data[data['runtime'] == 900]"
   ]
  },
  {
   "cell_type": "markdown",
   "metadata": {},
   "source": [
    "The longest movie runs for 900 minutes. It turns out to be a documentary, so technically it is not a movie."
   ]
  },
  {
   "cell_type": "markdown",
   "metadata": {},
   "source": [
    "### - Which year has the highest number of movies?"
   ]
  },
  {
   "cell_type": "code",
   "execution_count": 13,
   "metadata": {},
   "outputs": [
    {
     "data": {
      "image/png": "[encoded data removed]",
      "text/plain": [
       "<matplotlib.figure.Figure at 0x2db9e044588>"
      ]
     },
     "metadata": {},
     "output_type": "display_data"
    }
   ],
   "source": [
    "# group data by \"release_year\" and count in each group\n",
    "count_by_years = data.groupby([\"release_year\"]).size()\n",
    "# a plot of number of movies corresponding to release years\n",
    "count_by_years.plot();\n",
    "plt.xlabel(\"release year\");\n",
    "plt.ylabel(\"number of movies\");\n",
    "plt.title(\"number of movies by release years\");"
   ]
  },
  {
   "cell_type": "markdown",
   "metadata": {},
   "source": [
    "The above graph shows that the amount of movies increases exponentially since 1960 with some local variations."
   ]
  },
  {
   "cell_type": "code",
   "execution_count": 14,
   "metadata": {},
   "outputs": [
    {
     "data": {
      "text/plain": [
       "release_year\n",
       "2014    692\n",
       "2013    641\n",
       "2015    624\n",
       "2012    578\n",
       "2011    531\n",
       "2009    520\n",
       "2008    485\n",
       "2010    476\n",
       "2007    418\n",
       "2006    399\n",
       "dtype: int64"
      ]
     },
     "execution_count": 14,
     "metadata": {},
     "output_type": "execute_result"
    }
   ],
   "source": [
    "# show the year with most movies made\n",
    "count_by_years.sort_values(ascending=False)[:10]"
   ]
  },
  {
   "cell_type": "markdown",
   "metadata": {},
   "source": [
    "So the year 2014 has the highest number of movies. The total number is 692. The second and third are years 2013 and 2015. From the graph, we already know number of movies grows at an exponential rate up to now. So recent years have more movies to come."
   ]
  },
  {
   "cell_type": "markdown",
   "metadata": {},
   "source": [
    "### How many movies have a higher revenue_adj than budget_adj?\n",
    "\n",
    "Most movies are commercial and entertainment products which shall generate profits. In this project, we'll define profit to be the difference between adjusted revenue and adjusted budget. So a profitable movie shall have a higher adjusted revenue than adjusted budget."
   ]
  },
  {
   "cell_type": "code",
   "execution_count": 15,
   "metadata": {},
   "outputs": [
    {
     "name": "stdout",
     "output_type": "stream",
     "text": [
      "No. of movies with zero adjusted revenues:  5777\n",
      "No. of movies with zero adjusted budget:  5480\n",
      "Length of dataset:  3755\n"
     ]
    }
   ],
   "source": [
    "# remove zero values of adjusted revenues and adjusted budget\n",
    "print(\"No. of movies with zero adjusted revenues: \", len(data[data['revenue_adj'] == 0]))\n",
    "print(\"No. of movies with zero adjusted budget: \", len(data[data['budget_adj'] == 0]))\n",
    "data_no_zero = data[(data['revenue_adj'] > 0) & (data['budget_adj'] > 0)]\n",
    "print(\"Length of dataset: \", len(data_no_zero))"
   ]
  },
  {
   "cell_type": "markdown",
   "metadata": {},
   "source": [
    "From the removal we can see that the dataset contains too many zero values for adjusted revenue and adjusted budget, which is quite problematic."
   ]
  },
  {
   "cell_type": "code",
   "execution_count": 16,
   "metadata": {
    "collapsed": true
   },
   "outputs": [],
   "source": [
    "# get those movies with adjusted revenue highter than adjusted budget\n",
    "profitable = data_no_zero[data_no_zero['revenue_adj'] > data_no_zero['budget_adj']]"
   ]
  },
  {
   "cell_type": "code",
   "execution_count": 17,
   "metadata": {},
   "outputs": [
    {
     "name": "stdout",
     "output_type": "stream",
     "text": [
      "2699\n",
      "0.7187749667110519\n"
     ]
    }
   ],
   "source": [
    "# show number of profitable movies and the corresponding percentage\n",
    "print(len(profitable)) \n",
    "print(len(profitable)/len(data_no_zero))"
   ]
  },
  {
   "cell_type": "markdown",
   "metadata": {},
   "source": [
    "After removing those with zero adjusted revenue or budget, 71.88% percent of the 3755 movies are profitable."
   ]
  },
  {
   "cell_type": "markdown",
   "metadata": {},
   "source": [
    "### Which genres are the most popular?\n",
    "\n",
    "Movies are categorized into different genres like comedy, thriller, drama, action, romance and etc. With some data manipulation, it is easy to see which genres are the most popular ones, based on the number of moview within each genre."
   ]
  },
  {
   "cell_type": "code",
   "execution_count": 18,
   "metadata": {},
   "outputs": [
    {
     "data": {
      "text/plain": [
       "[('Drama', 4616),\n",
       " ('Comedy', 3720),\n",
       " ('Thriller', 2796),\n",
       " ('Action', 2303),\n",
       " ('Romance', 1658),\n",
       " ('Horror', 1557),\n",
       " ('Adventure', 1418),\n",
       " ('Crime', 1311),\n",
       " ('Family', 1183),\n",
       " ('Science Fiction', 1178),\n",
       " ('Fantasy', 876),\n",
       " ('Mystery', 765),\n",
       " ('Animation', 680),\n",
       " ('Documentary', 502),\n",
       " ('Music', 391),\n",
       " ('History', 324),\n",
       " ('War', 264),\n",
       " ('Foreign', 181),\n",
       " ('Western', 162),\n",
       " ('TV Movie', 157)]"
      ]
     },
     "execution_count": 18,
     "metadata": {},
     "output_type": "execute_result"
    }
   ],
   "source": [
    "from collections import Counter\n",
    "# show the most popular genres\n",
    "genres = Counter()\n",
    "genre_series = data[\"genres\"].dropna()\n",
    "for genre in genre_series:\n",
    "    cur_genres = genre.split('|')\n",
    "    for cur_genre in cur_genres:\n",
    "        genres[cur_genre] += 1\n",
    "genres.most_common()"
   ]
  },
  {
   "cell_type": "markdown",
   "metadata": {},
   "source": [
    "We can see the most popular genre is drama which contains 4616 movies, which is close to half of the total number of movies in this dataset. the following popular genres are comedy, thriller, action, romance, horror, adventure, etc. One should be noticed that a movie can have several genre types, that's why those numbers sum much higher than total number of movies, and we used '|' to split the genres feature."
   ]
  },
  {
   "cell_type": "markdown",
   "metadata": {},
   "source": [
    "## Conclusion\n",
    "- Which directors have the highest number of movies?\n",
    "    The ten directors having the highest number of movies are Woody Allen, Clint Eastwood, Steven Spielberg, Martin Scorsese, Ridley Scott, Steven Soderbergh, Ron Howard, Joel Schumacher, Brian De Palma, Wes Craven.    \n",
    "- What is the distribution of runtime? Except some outliers having very larger runtime, the runtime has a Gaussian-like distribution with mean 101.97(min) and std 29.69(min).\n",
    "- Which year has the highest number of movies? The year 2014 has the highest number of movies: 692.\n",
    "- How many movies have a higher revenue_adj than budget_adj? 2699 moives (about two thirds) have higher adjusted revenue than adjusted budget.\n",
    "- Which genres are the most popular? The most popular genres are drama, comedy, thriller, action, romance, horror, adventure.\n",
    "\n",
    "## Limitations\n",
    "- dataset contains duplicates, null values\n",
    "- dataset contains many zero values for runtime, adjusted revenue and adjusted budget, so analysis with these features shall take the issue into consideration, otherwise we would get incorrect results from it."
   ]
  }
 ],
 "metadata": {
  "kernelspec": {
   "display_name": "Python 3",
   "language": "python",
   "name": "python3"
  },
  "language_info": {
   "codemirror_mode": {
    "name": "ipython",
    "version": 3
   },
   "file_extension": ".py",
   "mimetype": "text/x-python",
   "name": "python",
   "nbconvert_exporter": "python",
   "pygments_lexer": "ipython3",
   "version": "3.6.3"
  }
 },
 "nbformat": 4,
 "nbformat_minor": 2
}
